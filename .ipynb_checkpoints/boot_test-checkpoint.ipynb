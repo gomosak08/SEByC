{
 "cells": [
  {
   "cell_type": "code",
   "execution_count": null,
   "id": "6f803bb2-7721-4a22-829b-8b63b137ed35",
   "metadata": {},
   "outputs": [],
   "source": [
    "7212585082:AAF_vEeLnw6iFC5JdTlq2nONvr_ocipioU4"
   ]
  },
  {
   "cell_type": "code",
   "execution_count": null,
   "id": "fee66a46-2e8e-46da-8e98-d18b6e8425f1",
   "metadata": {},
   "outputs": [],
   "source": [
    "from telegram.ext import Updater, CommandHandler\n",
    "\n",
    "# Your bot's token from BotFather\n",
    "TOKEN = \"7212585082:AAF_vEeLnw6iFC5JdTlq2nONvr_ocipioU4\"\n",
    "\n",
    "def start(update, context):\n",
    "    chat_id = update.message.chat_id\n",
    "    context.bot.send_message(chat_id=chat_id, text=f\"Your chat ID is: {chat_id}\")\n",
    "    print(f\"Your chat ID is: {chat_id}\")\n",
    "\n",
    "def main():\n",
    "    updater = Updater(TOKEN, use_context=True)\n",
    "    dp = updater.dispatcher\n",
    "    dp.add_handler(CommandHandler(\"start\", start))\n",
    "    updater.start_polling()\n",
    "    updater.idle()\n",
    "\n",
    "if __name__ == \"__main__\":\n",
    "    main()\n"
   ]
  }
 ],
 "metadata": {
  "kernelspec": {
   "display_name": "cnf",
   "language": "python",
   "name": "myenv"
  },
  "language_info": {
   "codemirror_mode": {
    "name": "ipython",
    "version": 3
   },
   "file_extension": ".py",
   "mimetype": "text/x-python",
   "name": "python",
   "nbconvert_exporter": "python",
   "pygments_lexer": "ipython3",
   "version": "3.12.3"
  }
 },
 "nbformat": 4,
 "nbformat_minor": 5
}
