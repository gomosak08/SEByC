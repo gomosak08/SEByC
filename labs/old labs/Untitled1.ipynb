{
 "cells": [
  {
   "cell_type": "code",
   "execution_count": 37,
   "id": "64c50a2b-99e5-4980-9bf4-858bd2c3a821",
   "metadata": {},
   "outputs": [],
   "source": [
    "import pandas as pd\n",
    "import numpy as np\n",
    "import matplotlib.pyplot as plt\n",
    "from collections import Counter\n",
    "import math "
   ]
  },
  {
   "cell_type": "code",
   "execution_count": 38,
   "id": "873fb05f-5618-4bec-8022-86481a36bc39",
   "metadata": {},
   "outputs": [],
   "source": [
    "from tqdm import tqdm\n"
   ]
  },
  {
   "cell_type": "code",
   "execution_count": 39,
   "id": "607bdb7d-98b8-4ad1-a87e-e691b7b846e0",
   "metadata": {},
   "outputs": [],
   "source": [
    "pd.set_option('display.max_columns', None)"
   ]
  },
  {
   "cell_type": "code",
   "execution_count": 40,
   "id": "791539bd-6206-44db-828e-da2d862bc43d",
   "metadata": {},
   "outputs": [],
   "source": [
    "df = pd.read_csv(\"../out.csv\")"
   ]
  },
  {
   "cell_type": "code",
   "execution_count": 41,
   "id": "0217b6d3-548f-42c8-9351-859e06abde97",
   "metadata": {},
   "outputs": [],
   "source": [
    "def str2function(function, equation_type):\n",
    "    \"\"\"\n",
    "    Converts a string representation of an equation into a lambda function with the correct variables and mathematical expressions.\n",
    "\n",
    "    ### Parameters:\n",
    "    - **function** (`str`): The string representation of the equation.\n",
    "    - **equation_type** (`str`): The type of equation, which can be \"vol\", \"bio\", or \"car\". This determines the specific variable replacements and list of variables used.\n",
    "\n",
    "    ### Returns:\n",
    "    - **function** (`lambda`): The generated lambda function based on the input string.\n",
    "    - **filtered_list** (`list`): The list of variables used in the lambda function.\n",
    "\n",
    "    ### Example Usage:\n",
    "    ```python\n",
    "    equation_str = \"[d130] * [ht] + [p]\"\n",
    "    lambda_func, variables = str2function(equation_str, \"bio\")\n",
    "    result = lambda_func(10, 5, 0.9)  # Example usage of the lambda function\n",
    "    ```\n",
    "\n",
    "    ### Notes:\n",
    "    - The function performs necessary replacements (like `[d130]` to `d130`) and handles specific mathematical expressions like `Exp` and `LOG`.\n",
    "    \"\"\"\n",
    "\n",
    "    # Replacements and variables based on the equation type\n",
    "    replacements = {\n",
    "        \"vol\": {\n",
    "            \"[d130]\": \"d130\",\n",
    "            \"[ht]\": \"ht\"\n",
    "        },\n",
    "        \"bio\": {\n",
    "            \"Exp\": \"math.exp\",\n",
    "            \"[p]\": \"densi\",\n",
    "            \"[v]\": \"v\",\n",
    "            \"[d130]\": \"d130\",\n",
    "            \"[ht]\": \"ht\",\n",
    "            \"LOG\": \"math.log\"\n",
    "        },\n",
    "        \"car\": {\n",
    "            \"[b]\": \"b\",\n",
    "            \"[d130]\": \"d130\",\n",
    "            \"[ht]\": \"ht\"\n",
    "        }\n",
    "    }\n",
    "\n",
    "    variable_sets = {\n",
    "        \"vol\": [\"d130\", \"ht\"],\n",
    "        \"bio\": [\"densi\", \"v\", \"d130\", \"ht\"],\n",
    "        \"car\": [\"b\", \"d130\", \"ht\"]\n",
    "    }\n",
    "\n",
    "    # Validate equation_type\n",
    "    if equation_type not in replacements or equation_type not in variable_sets:\n",
    "        raise ValueError(f'{equation_type} is not known. The only available options are \"vol\", \"bio\", \"car\".')\n",
    "\n",
    "    # Apply replacements based on the equation type\n",
    "    for key, value in replacements[equation_type].items():\n",
    "        function = function.replace(key, value)\n",
    "\n",
    "    # Filter the variables based on which are used in the function\n",
    "    variables = variable_sets[equation_type]\n",
    "    filtered_list = [var for var in variables if var in function]\n",
    "\n",
    "    # Generate the lambda function\n",
    "    lambda_function = eval(f'lambda {\", \".join(filtered_list)}: {function}')\n",
    "\n",
    "    return lambda_function, filtered_list"
   ]
  },
  {
   "cell_type": "code",
   "execution_count": 6,
   "id": "08856da2-b799-40e8-a2f2-f378e751dea3",
   "metadata": {},
   "outputs": [
    {
     "data": {
      "text/plain": [
       "id                                                              16\n",
       "anio_levantamiento                                            2005\n",
       "conglomerado                                                   153\n",
       "sitio                                                            1\n",
       "condicion                                                    Tocón\n",
       "especie_id                                                  2270.0\n",
       "familia                                               Cupressaceae\n",
       "genero                                                   Juniperus\n",
       "epiteto                                                        NaN\n",
       "categoria_infra                                                NaN\n",
       "infraespecie                                                   NaN\n",
       "numero_arbol                                                    14\n",
       "numero_tallo                                                   NaN\n",
       "tallos                                                         NaN\n",
       "diametro                                                      16.5\n",
       "altura                                                         0.3\n",
       "is_predicted                                                   0.0\n",
       "latitud                                                  32.448351\n",
       "longitud                                               -116.077138\n",
       "clave_ecoregion_n2                                            11.1\n",
       "clave_bur                                                      BCO\n",
       "referencia_1                               caracteristica_arbolado\n",
       "referencia_2                                                    14\n",
       "user_id                                                        1.0\n",
       "created_at                                 2019-11-14 20:24:49.070\n",
       "updated_at                                 2019-11-14 20:24:49.070\n",
       "grado_putrefaccion                                             NaN\n",
       "clave_ecoregion_n1                                              11\n",
       "clave_ecoregion_n3                                          11.1.3\n",
       "clave_ecoregion_n4                                        11.1.3.1\n",
       "estado_inegi                                                     2\n",
       "estado                                             Baja California\n",
       "edad                                                           NaN\n",
       "carbon_eq                                             (0.4911*[b])\n",
       "biomasa_eq            (3.14159 * (([d130] / 2 / 100) ** 2) * [ht])\n",
       "densidad_eq                                                 0.4612\n",
       "volumen_eq            (3.14159 * (([d130] / 2 / 100) ** 2) * [ht])\n",
       "Name: 15, dtype: object"
      ]
     },
     "execution_count": 6,
     "metadata": {},
     "output_type": "execute_result"
    }
   ],
   "source": [
    "df.loc[15]"
   ]
  },
  {
   "cell_type": "code",
   "execution_count": 7,
   "id": "8964d261-b4bd-4fc6-bf49-0ccc632b7bf1",
   "metadata": {
    "collapsed": true,
    "jupyter": {
     "outputs_hidden": true
    }
   },
   "outputs": [
    {
     "data": {
      "text/plain": [
       "biomasa_eq\n",
       "(Exp(-2.754)*[d130]**2.574)                                30661\n",
       "Exp(-2.27)*([d130]**2.39)                                  11213\n",
       "(3.14159 * (([d130] / 2 / 100) ** 2) * [ht]) / 3            9328\n",
       "Exp(0.9173)*([d130]**1.0730)                                6452\n",
       "Exp(-1.6469)*([d130]**2.1255)                               5974\n",
       "(Exp(-2.084)*[d130]**2.323)                                 5029\n",
       "(1.7737)*([d130]**1.2282)                                   4199\n",
       "(0.283)*((([d130]**2)*[ht])**0.807)                         3464\n",
       "(Exp(-0.877)*[d130]**1.98)                                  2805\n",
       "(0.0416)*([d130]**2.7154)                                   2055\n",
       "(Exp(-2.187+(0.916*(LOG(([p])*(([d130])**2)*([ht]))))))     1954\n",
       "(0.0841)*([d130]**2.41)                                     1803\n",
       "(Exp(-2.592)*[d130]**2.585)                                 1718\n",
       "(0.1354)*([d130]**2.3033)                                   1659\n",
       "(0.0342)*([d130]**2.7590)                                   1356\n",
       "(Exp(-3.066)*[d130]**2.646)                                 1330\n",
       "(3.14159 * (([d130] / 2 / 100) ** 2) * [ht])                1246\n",
       "(0.058)*((([d130]**2)*[ht])**0.919)                         1188\n",
       "Exp(-1.852)*([d130]**2.378)                                  996\n",
       "(Exp(-3.549)*[d130]**2.787)                                  871\n",
       "(0.0890)*([d130]**2.5226)                                    830\n",
       "(Exp(-3.139)*[d130]**2.585)                                  646\n",
       "Exp(-1.291)*([d130]**2.178)                                  607\n",
       "(-40.102)+1.787*[d130]+10.182*[ht]                           465\n",
       "Exp(-4.005)*([d130]**2.653)                                  405\n",
       "(0.0333)*([d130]**2.6648)                                    321\n",
       "(0.45534)*([d130]**2)                                        291\n",
       "(0.092)*([d130]**2.448)                                      239\n",
       "(Exp(-3.264)*[d130]**2.707)                                  204\n",
       "(0.3700)*([d130]**1.9600)                                    193\n",
       "(Exp(-3.039)*[d130]**2.523)                                  110\n",
       "(Exp(-1.922)*[d130]**2.321)                                  102\n",
       "(0.00166)*([d130]**3.6586)                                    52\n",
       "(0.1382)*([d130]**2.3573)                                     49\n",
       "(Exp(-1.482)*[d130]**2.129)                                   37\n",
       "(Exp(-3.573)*[d130]**2.746)                                   31\n",
       "Exp(-1.6200)*([d130]**2.1200)                                 16\n",
       "(0.0754)*([d130]**2.513)                                      15\n",
       "Exp(-3.369)*([d130]**2.934)                                   14\n",
       "(0.2666)*([d130]**2)                                          11\n",
       "Exp(-2.14)*([d130]**2.23)                                      9\n",
       "(10**-1.417)*([d130]**2.755)                                   9\n",
       "(10**-0.755)*([d130]**2.072)                                   8\n",
       "(0.2018)*([d130]**2.2907)                                      8\n",
       "(0.40196)*([d130]**2)                                          7\n",
       "(Exp(-3.416)*[d130]**2.715)                                    5\n",
       "(Exp(-3.065)*[d130]**2.625)                                    5\n",
       "(0.887+((10486*[d130]**2.84)/([d130]**2.84 + 376907)))         4\n",
       "(0.35179)*([d130]**2)                                          2\n",
       "(0.1649)*([d130]**2.2755)                                      2\n",
       "(0.031661)*([d130]**2.62221)                                   1\n",
       "Exp(-1.76)*([d130]**2.26)                                      1\n",
       "(Exp(-2.611)*[d130]**2.531)                                    1\n",
       "Name: count, dtype: int64"
      ]
     },
     "execution_count": 7,
     "metadata": {},
     "output_type": "execute_result"
    }
   ],
   "source": [
    "df.biomasa_eq.value_counts()"
   ]
  },
  {
   "cell_type": "code",
   "execution_count": 45,
   "id": "72795a90-5385-4910-b822-0789e894f66e",
   "metadata": {},
   "outputs": [
    {
     "name": "stderr",
     "output_type": "stream",
     "text": [
      "100%|████████████████████████████████| 100001/100001 [00:02<00:00, 46059.49it/s]\n"
     ]
    }
   ],
   "source": [
    "for row in tqdm(df.itertuples(), total=len(df)):\n",
    "            index = row.Index\n",
    "            try:\n",
    "                f, var = str2function(row.biomasa_eq, \"bio\")\n",
    "                if var == ['densi', 'd130', 'ht']:\n",
    "                    df.at[index, 'biomasa'] = f(float(row.densidad_eq), row.diametro, row.altura)\n",
    "                elif var == ['d130', 'ht']:\n",
    "                    df.at[index, 'biomasa'] = f(row.diametro, row.altura)\n",
    "                elif var == ['densi', 'v']:\n",
    "                    df.at[index, 'biomasa'] = f(float(row.densidad_eq), row.volumen)\n",
    "                else:\n",
    "                    df.at[index, 'biomasa'] = f(row.diametro)\n",
    "            except Exception as e:\n",
    "                print(f\"Error calculating biomass at index {index}: {e}\")\n",
    "                break"
   ]
  },
  {
   "cell_type": "code",
   "execution_count": 42,
   "id": "7090f9cd-9ac6-4019-8647-f10319f422e3",
   "metadata": {},
   "outputs": [],
   "source": [
    "row = df.iloc[937]"
   ]
  },
  {
   "cell_type": "code",
   "execution_count": 43,
   "id": "904449fa-1176-429a-8d16-93efffa4458b",
   "metadata": {},
   "outputs": [
    {
     "data": {
      "text/plain": [
       "'Exp(0.9173)*([d130]**1.0730)'"
      ]
     },
     "execution_count": 43,
     "metadata": {},
     "output_type": "execute_result"
    }
   ],
   "source": [
    "row.biomasa_eq"
   ]
  },
  {
   "cell_type": "code",
   "execution_count": 44,
   "id": "49490fb1-d149-42e8-a228-dd404e882b53",
   "metadata": {},
   "outputs": [
    {
     "data": {
      "text/plain": [
       "id                                                938\n",
       "anio_levantamiento                               2005\n",
       "conglomerado                                     1049\n",
       "sitio                                               2\n",
       "condicion                                        Vivo\n",
       "especie_id                                    13840.0\n",
       "familia                                     Cactaceae\n",
       "genero                                      Carnegiea\n",
       "epiteto                                      gigantea\n",
       "categoria_infra                                   NaN\n",
       "infraespecie                                      NaN\n",
       "numero_arbol                                        1\n",
       "numero_tallo                                      NaN\n",
       "tallos                                            0.0\n",
       "diametro                                          7.5\n",
       "altura                                           5.35\n",
       "is_predicted                                      0.0\n",
       "latitud                                       31.9438\n",
       "longitud                                  -113.220547\n",
       "clave_ecoregion_n2                               10.2\n",
       "clave_bur                                        MXnL\n",
       "referencia_1          caracteristica_vegetacion_mayor\n",
       "referencia_2                                    92686\n",
       "user_id                                           1.0\n",
       "created_at                    2019-11-14 20:24:49.070\n",
       "updated_at                    2019-11-14 20:24:49.070\n",
       "grado_putrefaccion                                NaN\n",
       "clave_ecoregion_n1                                 10\n",
       "clave_ecoregion_n3                             10.2.2\n",
       "clave_ecoregion_n4                           10.2.2.6\n",
       "estado_inegi                                       26\n",
       "estado                                         Sonora\n",
       "edad                                              NaN\n",
       "carbon_eq                                   [b]*0.447\n",
       "biomasa_eq               Exp(0.9173)*([d130]**1.0730)\n",
       "densidad_eq                                   0.55779\n",
       "volumen_eq                                        NaN\n",
       "Name: 937, dtype: object"
      ]
     },
     "execution_count": 44,
     "metadata": {},
     "output_type": "execute_result"
    }
   ],
   "source": [
    "row"
   ]
  },
  {
   "cell_type": "code",
   "execution_count": 16,
   "id": "942cb2e1-316d-47dc-bdc9-609333893593",
   "metadata": {},
   "outputs": [],
   "source": [
    "f,var,st = str2function(row.biomasa_eq, \"bio\")"
   ]
  },
  {
   "cell_type": "code",
   "execution_count": 18,
   "id": "310b1d53-b257-44d5-ba38-d4da77c5230e",
   "metadata": {},
   "outputs": [
    {
     "data": {
      "text/plain": [
       "(0.55779, 0.0, 5.35)"
      ]
     },
     "execution_count": 18,
     "metadata": {},
     "output_type": "execute_result"
    }
   ],
   "source": [
    "float(row.densidad_eq), row.diametro, row.altura"
   ]
  },
  {
   "cell_type": "code",
   "execution_count": 17,
   "id": "8009622a-b270-4afc-8515-f885f4f47c0c",
   "metadata": {
    "collapsed": true,
    "jupyter": {
     "outputs_hidden": true
    }
   },
   "outputs": [
    {
     "ename": "ValueError",
     "evalue": "math domain error",
     "output_type": "error",
     "traceback": [
      "\u001b[0;31m---------------------------------------------------------------------------\u001b[0m",
      "\u001b[0;31mValueError\u001b[0m                                Traceback (most recent call last)",
      "Cell \u001b[0;32mIn[17], line 1\u001b[0m\n\u001b[0;32m----> 1\u001b[0m \u001b[43mf\u001b[49m\u001b[43m(\u001b[49m\u001b[38;5;28;43mfloat\u001b[39;49m\u001b[43m(\u001b[49m\u001b[43mrow\u001b[49m\u001b[38;5;241;43m.\u001b[39;49m\u001b[43mdensidad_eq\u001b[49m\u001b[43m)\u001b[49m\u001b[43m,\u001b[49m\u001b[43m \u001b[49m\u001b[43mrow\u001b[49m\u001b[38;5;241;43m.\u001b[39;49m\u001b[43mdiametro\u001b[49m\u001b[43m,\u001b[49m\u001b[43m \u001b[49m\u001b[43mrow\u001b[49m\u001b[38;5;241;43m.\u001b[39;49m\u001b[43maltura\u001b[49m\u001b[43m)\u001b[49m\n",
      "File \u001b[0;32m<string>:1\u001b[0m, in \u001b[0;36m<lambda>\u001b[0;34m(densi, d130, ht)\u001b[0m\n",
      "\u001b[0;31mValueError\u001b[0m: math domain error"
     ]
    }
   ],
   "source": [
    "f(float(row.densidad_eq), row.diametro, row.altura)"
   ]
  },
  {
   "cell_type": "code",
   "execution_count": 15,
   "id": "36ace4c4-82a7-4803-9a8a-d8d57a076a2b",
   "metadata": {},
   "outputs": [
    {
     "data": {
      "text/plain": [
       "3.117412128603401"
      ]
     },
     "execution_count": 15,
     "metadata": {},
     "output_type": "execute_result"
    }
   ],
   "source": [
    "(math.exp(-2.187+(0.916*(math.log((0.4612)*((16.5)**2)*(0.3))))))"
   ]
  },
  {
   "cell_type": "code",
   "execution_count": 19,
   "id": "e3442f47-a84d-4fa1-80ef-9dcc2fdc4252",
   "metadata": {},
   "outputs": [
    {
     "data": {
      "text/plain": [
       "'(math.exp(-2.187+(0.916*(math.log((densi)*((d130)**2)*(ht))))))'"
      ]
     },
     "execution_count": 19,
     "metadata": {},
     "output_type": "execute_result"
    }
   ],
   "source": [
    "st"
   ]
  },
  {
   "cell_type": "code",
   "execution_count": null,
   "id": "bf62bc4c-6312-4cea-ac61-143a5e1515bc",
   "metadata": {},
   "outputs": [],
   "source": []
  },
  {
   "cell_type": "code",
   "execution_count": null,
   "id": "6bcfb9f6-df20-48d8-95a9-78eadb1bf4bf",
   "metadata": {},
   "outputs": [],
   "source": [
    "for row in tqdm(df.itertuples(), total=len(df)):\n",
    "    index = row.Index\n",
    "    try:\n",
    "        f, var = str2function(row.biomasa_eq, \"bio\")\n",
    "        if var == ['densi', 'd130', 'ht']:\n",
    "            df.at[index, 'biomasa'] = f(float(row.densidad_eq), row.diametro, row.altura)\n",
    "        elif var == ['d130', 'ht']:\n",
    "            df.at[index, 'biomasa'] = f(row.diametro, row.altura)\n",
    "        elif var == ['densi', 'v']:\n",
    "            df.at[index, 'biomasa'] = f(float(row.densidad_eq), row.volumen)\n",
    "        else:\n",
    "            df.at[index, 'biomasa'] = f(row.diametro)\n",
    "    except Exception as e:\n",
    "        print(f\"Error calculating biomass at index {index}: {e}\")\n",
    "        print(row.biomasa_eq)"
   ]
  },
  {
   "cell_type": "code",
   "execution_count": 23,
   "id": "6fbc380a-8c89-4db1-a2be-c2c61875a0e6",
   "metadata": {},
   "outputs": [],
   "source": [
    "m = pd.read_csv(\"../csvs/modelo2.csv\")"
   ]
  },
  {
   "cell_type": "code",
   "execution_count": 27,
   "id": "20a67db0-40e5-461a-811a-2b080de6aa66",
   "metadata": {},
   "outputs": [
    {
     "data": {
      "text/plain": [
       "'(0.1649)*([d130]**2.2755)'"
      ]
     },
     "execution_count": 27,
     "metadata": {},
     "output_type": "execute_result"
    }
   ],
   "source": [
    "m.iloc[0,6]"
   ]
  },
  {
   "cell_type": "code",
   "execution_count": null,
   "id": "c82ab13b-91b1-4db2-a0cb-ad4118437199",
   "metadata": {},
   "outputs": [],
   "source": []
  }
 ],
 "metadata": {
  "kernelspec": {
   "display_name": "Conafor",
   "language": "python",
   "name": "cnf"
  },
  "language_info": {
   "codemirror_mode": {
    "name": "ipython",
    "version": 3
   },
   "file_extension": ".py",
   "mimetype": "text/x-python",
   "name": "python",
   "nbconvert_exporter": "python",
   "pygments_lexer": "ipython3",
   "version": "3.12.3"
  }
 },
 "nbformat": 4,
 "nbformat_minor": 5
}
