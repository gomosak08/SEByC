{
 "cells": [
  {
   "cell_type": "code",
   "execution_count": null,
   "id": "6f803bb2-7721-4a22-829b-8b63b137ed35",
   "metadata": {},
   "outputs": [],
   "source": [
    "7212585082:AAF_vEeLnw6iFC5JdTlq2nONvr_ocipioU4"
   ]
  },
  {
   "cell_type": "code",
   "execution_count": 6,
   "id": "71d41e30-3305-404c-8838-30663e346322",
   "metadata": {},
   "outputs": [],
   "source": [
    "TOKEN = \"7212585082:AAF_vEeLnw6iFC5JdTlq2nONvr_ocipioU4\""
   ]
  },
  {
   "cell_type": "code",
   "execution_count": 10,
   "id": "fee66a46-2e8e-46da-8e98-d18b6e8425f1",
   "metadata": {},
   "outputs": [],
   "source": [
    "from telegram import Update\n",
    "from telegram.ext import ApplicationBuilder, CommandHandler, MessageHandler, filters, ContextTypes\n",
    "import asyncio\n",
    "\n",
    "\n",
    "\n",
    "# Function to start the bot\n",
    "async def start(update: Update, context: ContextTypes.DEFAULT_TYPE):\n",
    "    await update.message.reply_text(\"Hello! I am your bot. How can I help you?\")\n",
    "\n",
    "# Function to handle user messages\n",
    "async def handle_message(update: Update, context: ContextTypes.DEFAULT_TYPE):\n",
    "    user_message = update.message.text.lower()\n",
    "\n",
    "    if \"hello\" in user_message:\n",
    "        await update.message.reply_text(\"Hi there!\")\n",
    "    elif \"how are you\" in user_message:\n",
    "        await update.message.reply_text(\"I'm just a bot, but I'm doing great!\")\n",
    "    elif \"bye\" in user_message:\n",
    "        await update.message.reply_text(\"Goodbye! Have a nice day!\")\n",
    "    else:\n",
    "        await update.message.reply_text(\"Sorry, I don't understand that.\")\n",
    "\n",
    "def main():\n",
    "    # Set up the Application with your bot token\n",
    "    app = ApplicationBuilder().token(TOKEN).build()\n",
    "\n",
    "    # Add command handler for the /start command\n",
    "    app.add_handler(CommandHandler(\"start\", start))\n",
    "\n",
    "    # Add a message handler to handle all text messages\n",
    "    app.add_handler(MessageHandler(filters.TEXT & ~filters.COMMAND, handle_message))\n",
    "\n",
    "    # Check if the event loop is already running (for environments like Jupyter)\n",
    "    if not asyncio.get_event_loop().is_running():\n",
    "        app.run_polling()\n",
    "    else:\n",
    "        asyncio.create_task(app.start())  # Use create_task if already running in an active loop\n",
    "\n",
    "if __name__ == \"__main__\":\n",
    "    main()\n"
   ]
  },
  {
   "cell_type": "code",
   "execution_count": null,
   "id": "789c5c80-7d1b-43da-b5bc-adb36e250532",
   "metadata": {},
   "outputs": [],
   "source": []
  }
 ],
 "metadata": {
  "kernelspec": {
   "display_name": "cnf",
   "language": "python",
   "name": "cnf"
  },
  "language_info": {
   "codemirror_mode": {
    "name": "ipython",
    "version": 3
   },
   "file_extension": ".py",
   "mimetype": "text/x-python",
   "name": "python",
   "nbconvert_exporter": "python",
   "pygments_lexer": "ipython3",
   "version": "3.12.3"
  }
 },
 "nbformat": 4,
 "nbformat_minor": 5
}
