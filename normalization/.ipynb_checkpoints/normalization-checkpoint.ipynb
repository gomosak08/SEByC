{
 "cells": [
  {
   "cell_type": "code",
   "execution_count": 1,
   "id": "bfe38b96-5580-4747-a5cf-82881bf05ae2",
   "metadata": {},
   "outputs": [],
   "source": [
    "import pandas as pd\n",
    "import numpy as np\n",
    "import argparse"
   ]
  },
  {
   "cell_type": "code",
   "execution_count": 2,
   "id": "0bed2bc9-6879-4623-ab5c-e261920b3e8a",
   "metadata": {},
   "outputs": [],
   "source": [
    "from conditions import assign_equations, volumen"
   ]
  },
  {
   "cell_type": "code",
   "execution_count": 3,
   "id": "a2f90b07-f652-43ce-a887-4f287d2f3c90",
   "metadata": {},
   "outputs": [
    {
     "name": "stdout",
     "output_type": "stream",
     "text": [
      "All the files where opened correctly\n"
     ]
    }
   ],
   "source": [
    "df_original = pd.read_csv(\"../csvs/ciclo_1.csv\", low_memory=False)\n",
    "modelos = pd.read_excel(\"../csvs/modelos.xlsx\")\n",
    "df_regression = pd.read_csv(\"../linear_regression/ciclo1_out.csv\",low_memory=False)\n",
    "print(\"All the files where opened correctly\")\n"
   ]
  },
  {
   "cell_type": "code",
   "execution_count": 4,
   "id": "94b0760a-c264-4e16-8e35-4c71a9fa9f53",
   "metadata": {},
   "outputs": [],
   "source": [
    "n = len(df_original)\n",
    "is_predicted = np.zeros(n)\n",
    "df_original.insert(15, 'is_predicted', is_predicted)"
   ]
  },
  {
   "cell_type": "code",
   "execution_count": 5,
   "id": "f16e1f23-537e-4f9c-a2f4-c246c8cc7467",
   "metadata": {},
   "outputs": [],
   "source": [
    "index = df_regression.index\n",
    "df_original.loc[index] = df_regression"
   ]
  },
  {
   "cell_type": "code",
   "execution_count": 6,
   "id": "047c073d-02eb-4ccb-8ee3-8e2f75327bca",
   "metadata": {},
   "outputs": [
    {
     "data": {
      "text/plain": [
       "(1305130, 1305130)"
      ]
     },
     "execution_count": 6,
     "metadata": {},
     "output_type": "execute_result"
    }
   ],
   "source": [
    "len(df_regression), n"
   ]
  },
  {
   "cell_type": "code",
   "execution_count": 7,
   "id": "9cecfd40-74f2-485e-8cc8-addf95790e0f",
   "metadata": {},
   "outputs": [],
   "source": [
    "df_original.loc[(df_original.condicion == \"Tocón\") & (df_original.altura <= 0) , \"altura\"] = .3\n",
    "df_original.loc[(df_original.condicion == \"Tocón\") & (df_original.altura.isnull()), \"altura\"] = .3\n",
    "\n",
    "df_original.loc[(df_original.condicion == \"Tocón\") & (df_original.diametro <= 0), \"diametro\"] = 7.5\n",
    "df_original.loc[(df_original.condicion == \"Tocón\") & (df_original.diametro.isnull()), \"diametro\"] = .3\n",
    "\n",
    "\n",
    "df_original.loc[(df_original.condicion != \"Tocón\") & (df_original.diametro.isnull()), \"diametro\"] = 7.5\n",
    "df_original.loc[(df_original.condicion != \"Tocón\") & (df_original.altura.isnull()), \"altura\"] = 1.3"
   ]
  },
  {
   "cell_type": "code",
   "execution_count": 8,
   "id": "2f3454df-ebb0-45bd-ad9a-d901dd8d23d9",
   "metadata": {},
   "outputs": [],
   "source": [
    "b_eq = np.empty(n, dtype=object)\n",
    "c_eq = np.empty(n, dtype=object)\n",
    "p_eq = np.empty(n, dtype=object)\n",
    "v_eq = np.empty(n, dtype=object)"
   ]
  },
  {
   "cell_type": "code",
   "execution_count": 18,
   "id": "7aa36ac3-f92b-4ada-b26a-b4940c5be9f4",
   "metadata": {},
   "outputs": [],
   "source": [
    "df_aux = df_original.loc[:2]"
   ]
  },
  {
   "cell_type": "code",
   "execution_count": 13,
   "id": "4ccdf91f-a53f-4a6f-a6d6-71edd294cae8",
   "metadata": {
    "collapsed": true,
    "jupyter": {
     "outputs_hidden": true
    }
   },
   "outputs": [
    {
     "data": {
      "text/plain": [
       "array(['(GE*(Exp((-1.499 )+(2.148*(LOG([d130])))+((0.2079)*(LOG(([d130])**2)))+ ((-0.0281)*(LOG(([d130])**3))))))',\n",
       "       '(0.058)*((([d130]**2)*[ht])**0.919)',\n",
       "       '(0.058)*((([d130]**2)*[ht])**0.919)',\n",
       "       '(0.058)*((([d130]**2)*[ht])**0.919)',\n",
       "       '(0.058)*((([d130]**2)*[ht])**0.919)',\n",
       "       'Exp(-1.6469)*([d130]**2.1255)', 'Exp(-1.6469)*([d130]**2.1255)',\n",
       "       'Exp(-1.6469)*([d130]**2.1255)', 'Exp(-1.6469)*([d130]**2.1255)',\n",
       "       'Exp(-1.6469)*([d130]**2.1255)',\n",
       "       '(0.058)*((([d130]**2)*[ht])**0.919)',\n",
       "       '(Exp(-3.139)*[d130]**2.585)',\n",
       "       '(0.058)*((([d130]**2)*[ht])**0.919)',\n",
       "       'Exp(-1.6469)*([d130]**2.1255)', 'Exp(-1.6469)*([d130]**2.1255)',\n",
       "       'Exp(-1.6469)*([d130]**2.1255)',\n",
       "       '(0.058)*((([d130]**2)*[ht])**0.919)',\n",
       "       '(0.058)*((([d130]**2)*[ht])**0.919)',\n",
       "       '(0.058)*((([d130]**2)*[ht])**0.919)',\n",
       "       '(0.058)*((([d130]**2)*[ht])**0.919)',\n",
       "       '(0.058)*((([d130]**2)*[ht])**0.919)',\n",
       "       '(-40.102)+1.787*[d130]+10.182*[ht]',\n",
       "       '(0.058)*((([d130]**2)*[ht])**0.919)',\n",
       "       '(0.058)*((([d130]**2)*[ht])**0.919)',\n",
       "       '(Exp(-3.139)*[d130]**2.585)', '(Exp(-3.139)*[d130]**2.585)',\n",
       "       '(0.058)*((([d130]**2)*[ht])**0.919)',\n",
       "       '(0.058)*((([d130]**2)*[ht])**0.919)',\n",
       "       '(0.058)*((([d130]**2)*[ht])**0.919)',\n",
       "       '(-40.102)+1.787*[d130]+10.182*[ht]',\n",
       "       '(0.058)*((([d130]**2)*[ht])**0.919)',\n",
       "       '(0.058)*((([d130]**2)*[ht])**0.919)',\n",
       "       '(0.058)*((([d130]**2)*[ht])**0.919)',\n",
       "       '(-40.102)+1.787*[d130]+10.182*[ht]',\n",
       "       '(Exp(-3.139)*[d130]**2.585)',\n",
       "       '(0.058)*((([d130]**2)*[ht])**0.919)',\n",
       "       '(0.058)*((([d130]**2)*[ht])**0.919)',\n",
       "       '(-40.102)+1.787*[d130]+10.182*[ht]',\n",
       "       '(0.058)*((([d130]**2)*[ht])**0.919)',\n",
       "       '(Exp(-3.139)*[d130]**2.585)',\n",
       "       '(0.058)*((([d130]**2)*[ht])**0.919)',\n",
       "       '(-40.102)+1.787*[d130]+10.182*[ht]',\n",
       "       '(0.058)*((([d130]**2)*[ht])**0.919)',\n",
       "       '(0.058)*((([d130]**2)*[ht])**0.919)',\n",
       "       '(0.058)*((([d130]**2)*[ht])**0.919)', 'Exp(-2.27)*([d130]**2.39)',\n",
       "       'Exp(-2.27)*([d130]**2.39)', '(0.058)*((([d130]**2)*[ht])**0.919)',\n",
       "       'Exp(-2.27)*([d130]**2.39)', 'Exp(-2.27)*([d130]**2.39)',\n",
       "       '(0.058)*((([d130]**2)*[ht])**0.919)',\n",
       "       '(-40.102)+1.787*[d130]+10.182*[ht]',\n",
       "       '(-40.102)+1.787*[d130]+10.182*[ht]',\n",
       "       'Exp(-1.6469)*([d130]**2.1255)', 'Exp(-1.6469)*([d130]**2.1255)',\n",
       "       'Exp(-1.6469)*([d130]**2.1255)', 'Exp(-1.6469)*([d130]**2.1255)',\n",
       "       '(0.058)*((([d130]**2)*[ht])**0.919)',\n",
       "       '(0.058)*((([d130]**2)*[ht])**0.919)',\n",
       "       '(Exp(-3.139)*[d130]**2.585)', 'Exp(-1.6469)*([d130]**2.1255)',\n",
       "       'Exp(-1.6469)*([d130]**2.1255)', 'Exp(-1.6469)*([d130]**2.1255)',\n",
       "       'Exp(-1.6469)*([d130]**2.1255)', 'Exp(-1.6469)*([d130]**2.1255)',\n",
       "       'Exp(-1.6469)*([d130]**2.1255)', 'Exp(-1.6469)*([d130]**2.1255)',\n",
       "       'Exp(-1.6469)*([d130]**2.1255)', '(Exp(-3.139)*[d130]**2.585)',\n",
       "       '(-40.102)+1.787*[d130]+10.182*[ht]',\n",
       "       '(-40.102)+1.787*[d130]+10.182*[ht]',\n",
       "       '(-40.102)+1.787*[d130]+10.182*[ht]',\n",
       "       '(0.058)*((([d130]**2)*[ht])**0.919)',\n",
       "       '(-40.102)+1.787*[d130]+10.182*[ht]',\n",
       "       '(-40.102)+1.787*[d130]+10.182*[ht]',\n",
       "       '(-40.102)+1.787*[d130]+10.182*[ht]',\n",
       "       '(-40.102)+1.787*[d130]+10.182*[ht]',\n",
       "       '(0.058)*((([d130]**2)*[ht])**0.919)',\n",
       "       'Exp(-1.6469)*([d130]**2.1255)', 'Exp(-1.6469)*([d130]**2.1255)',\n",
       "       '(0.058)*((([d130]**2)*[ht])**0.919)',\n",
       "       '(0.058)*((([d130]**2)*[ht])**0.919)', 'Exp(-2.27)*([d130]**2.39)',\n",
       "       'Exp(-2.27)*([d130]**2.39)', 'Exp(-2.27)*([d130]**2.39)',\n",
       "       '(0.058)*((([d130]**2)*[ht])**0.919)',\n",
       "       'Exp(0.9173)*([d130]**1.0730)',\n",
       "       '(0.058)*((([d130]**2)*[ht])**0.919)',\n",
       "       'Exp(0.9173)*([d130]**1.0730)', 'Exp(0.9173)*([d130]**1.0730)',\n",
       "       'Exp(0.9173)*([d130]**1.0730)', 'Exp(0.9173)*([d130]**1.0730)',\n",
       "       'Exp(-2.27)*([d130]**2.39)', '(0.058)*((([d130]**2)*[ht])**0.919)',\n",
       "       '(0.058)*((([d130]**2)*[ht])**0.919)', 'Exp(-2.27)*([d130]**2.39)',\n",
       "       'Exp(0.9173)*([d130]**1.0730)', 'Exp(0.9173)*([d130]**1.0730)',\n",
       "       'Exp(0.9173)*([d130]**1.0730)', 'Exp(0.9173)*([d130]**1.0730)',\n",
       "       '(0.058)*((([d130]**2)*[ht])**0.919)'], dtype=object)"
      ]
     },
     "execution_count": 13,
     "metadata": {},
     "output_type": "execute_result"
    }
   ],
   "source": [
    "b_eq = assign_equations(df_aux, modelos, variable_resultado=\"b\", conditions=\"biomasa\")"
   ]
  },
  {
   "cell_type": "code",
   "execution_count": 19,
   "id": "9f05a236-92f6-4b41-bed1-b42d9a950972",
   "metadata": {},
   "outputs": [
    {
     "name": "stderr",
     "output_type": "stream",
     "text": [
      "100%|██████████████████████████████████████████| 3/3 [00:00<00:00, 40986.68it/s]"
     ]
    },
    {
     "name": "stdout",
     "output_type": "stream",
     "text": [
      "Pandas(Index=0, id=1, anio_levantamiento=2005, conglomerado=60, sitio=1, condicion='Vivo', especie_id=680.0, familia='Ericaceae', genero='Arctostaphylos', epiteto=nan, categoria_infra=nan, infraespecie=nan, numero_arbol=1, numero_tallo=nan, tallos=3.0, diametro=8.3, is_predicted=0.0, altura=3.2, latitud=32.515597, longitud=-116.35045, clave_ecoregion_n2=11.1, clave_bur='MXL', referencia_1='caracteristica_vegetacion_mayor', referencia_2=107497, user_id=1.0, created_at='2019-11-14 20:24:49.070', updated_at='2019-11-14 20:24:49.070', grado_putrefaccion=nan, clave_ecoregion_n1=11, clave_ecoregion_n3='11.1.1', clave_ecoregion_n4='11.1.1.3', estado_inegi=2, estado='Baja California', edad=nan)\n",
      "Pandas(Index=1, id=2, anio_levantamiento=2005, conglomerado=64, sitio=4, condicion='Vivo', especie_id=26426.0, familia='Pinaceae', genero='Pinus', epiteto='quadrifolia', categoria_infra=nan, infraespecie=nan, numero_arbol=1, numero_tallo=nan, tallos=0.0, diametro=14.0, is_predicted=0.0, altura=5.5, latitud=32.5329029999999, longitud=-116.140585, clave_ecoregion_n2=11.1, clave_bur='MXL', referencia_1='caracteristica_vegetacion_mayor', referencia_2=101063, user_id=1.0, created_at='2019-11-14 20:24:49.070', updated_at='2019-11-14 20:24:49.070', grado_putrefaccion=nan, clave_ecoregion_n1=11, clave_ecoregion_n3='11.1.1', clave_ecoregion_n4='11.1.1.3', estado_inegi=2, estado='Baja California', edad=nan)\n",
      "Pandas(Index=2, id=3, anio_levantamiento=2005, conglomerado=153, sitio=1, condicion='Vivo', especie_id=26426.0, familia='Pinaceae', genero='Pinus', epiteto='quadrifolia', categoria_infra=nan, infraespecie=nan, numero_arbol=1, numero_tallo=nan, tallos=nan, diametro=17.0, is_predicted=0.0, altura=5.5, latitud=32.448351, longitud=-116.077138, clave_ecoregion_n2=11.1, clave_bur='BCO', referencia_1='caracteristica_arbolado', referencia_2=1, user_id=1.0, created_at='2019-11-14 20:24:49.070', updated_at='2019-11-14 20:24:49.070', grado_putrefaccion=nan, clave_ecoregion_n1=11, clave_ecoregion_n3='11.1.3', clave_ecoregion_n4='11.1.3.1', estado_inegi=2, estado='Baja California', edad=74.0)\n"
     ]
    },
    {
     "name": "stderr",
     "output_type": "stream",
     "text": [
      "\n"
     ]
    }
   ],
   "source": [
    "from tqdm import tqdm\n",
    "import time\n",
    "\n",
    "for row in tqdm(df_aux.itertuples(), total=len(df_aux)):\n",
    "    print(row)"
   ]
  },
  {
   "cell_type": "code",
   "execution_count": null,
   "id": "ea59c390-d8b1-4679-8295-2ae6510dc3ed",
   "metadata": {},
   "outputs": [],
   "source": [
    "c_eq = assign_equations(df_original, modelos, variable_resultado=\"p\", conditions=\"carbono\")"
   ]
  },
  {
   "cell_type": "code",
   "execution_count": null,
   "id": "24a2a3d6-a7f9-444c-822b-3f99f4999582",
   "metadata": {},
   "outputs": [],
   "source": [
    "p_eq = assign_equations(df_original, modelos, variable_resultado=\"p\", conditions=\"densidad\")"
   ]
  },
  {
   "cell_type": "code",
   "execution_count": 32,
   "id": "18d82d5d-992c-40f4-93f7-6bc692ddad29",
   "metadata": {},
   "outputs": [
    {
     "data": {
      "text/html": [
       "<div>\n",
       "<style scoped>\n",
       "    .dataframe tbody tr th:only-of-type {\n",
       "        vertical-align: middle;\n",
       "    }\n",
       "\n",
       "    .dataframe tbody tr th {\n",
       "        vertical-align: top;\n",
       "    }\n",
       "\n",
       "    .dataframe thead th {\n",
       "        text-align: right;\n",
       "    }\n",
       "</style>\n",
       "<table border=\"1\" class=\"dataframe\">\n",
       "  <thead>\n",
       "    <tr style=\"text-align: right;\">\n",
       "      <th></th>\n",
       "      <th>id</th>\n",
       "      <th>anio_levantamiento</th>\n",
       "      <th>conglomerado</th>\n",
       "      <th>sitio</th>\n",
       "      <th>condicion</th>\n",
       "      <th>especie_id</th>\n",
       "      <th>familia</th>\n",
       "      <th>genero</th>\n",
       "      <th>epiteto</th>\n",
       "      <th>categoria_infra</th>\n",
       "      <th>...</th>\n",
       "      <th>user_id</th>\n",
       "      <th>created_at</th>\n",
       "      <th>updated_at</th>\n",
       "      <th>grado_putrefaccion</th>\n",
       "      <th>clave_ecoregion_n1</th>\n",
       "      <th>clave_ecoregion_n3</th>\n",
       "      <th>clave_ecoregion_n4</th>\n",
       "      <th>estado_inegi</th>\n",
       "      <th>estado</th>\n",
       "      <th>edad</th>\n",
       "    </tr>\n",
       "  </thead>\n",
       "  <tbody>\n",
       "  </tbody>\n",
       "</table>\n",
       "<p>0 rows × 33 columns</p>\n",
       "</div>"
      ],
      "text/plain": [
       "Empty DataFrame\n",
       "Columns: [id, anio_levantamiento, conglomerado, sitio, condicion, especie_id, familia, genero, epiteto, categoria_infra, infraespecie, numero_arbol, numero_tallo, tallos, diametro, is_predicted, altura, latitud, longitud, clave_ecoregion_n2, clave_bur, referencia_1, referencia_2, user_id, created_at, updated_at, grado_putrefaccion, clave_ecoregion_n1, clave_ecoregion_n3, clave_ecoregion_n4, estado_inegi, estado, edad]\n",
       "Index: []\n",
       "\n",
       "[0 rows x 33 columns]"
      ]
     },
     "execution_count": 32,
     "metadata": {},
     "output_type": "execute_result"
    }
   ],
   "source": [
    "df_original_muerto"
   ]
  },
  {
   "cell_type": "code",
   "execution_count": 39,
   "id": "c1032ffe-b4c1-460f-a232-51ddccecaf09",
   "metadata": {},
   "outputs": [],
   "source": [
    "a = df_original_tocon.iloc[:5]"
   ]
  },
  {
   "cell_type": "code",
   "execution_count": 40,
   "id": "05dfc540-5030-4a8f-acde-7a34690d61cd",
   "metadata": {},
   "outputs": [
    {
     "data": {
      "text/html": [
       "<div>\n",
       "<style scoped>\n",
       "    .dataframe tbody tr th:only-of-type {\n",
       "        vertical-align: middle;\n",
       "    }\n",
       "\n",
       "    .dataframe tbody tr th {\n",
       "        vertical-align: top;\n",
       "    }\n",
       "\n",
       "    .dataframe thead th {\n",
       "        text-align: right;\n",
       "    }\n",
       "</style>\n",
       "<table border=\"1\" class=\"dataframe\">\n",
       "  <thead>\n",
       "    <tr style=\"text-align: right;\">\n",
       "      <th></th>\n",
       "      <th>id</th>\n",
       "      <th>anio_levantamiento</th>\n",
       "      <th>conglomerado</th>\n",
       "      <th>sitio</th>\n",
       "      <th>condicion</th>\n",
       "      <th>especie_id</th>\n",
       "      <th>familia</th>\n",
       "      <th>genero</th>\n",
       "      <th>epiteto</th>\n",
       "      <th>categoria_infra</th>\n",
       "      <th>...</th>\n",
       "      <th>user_id</th>\n",
       "      <th>created_at</th>\n",
       "      <th>updated_at</th>\n",
       "      <th>grado_putrefaccion</th>\n",
       "      <th>clave_ecoregion_n1</th>\n",
       "      <th>clave_ecoregion_n3</th>\n",
       "      <th>clave_ecoregion_n4</th>\n",
       "      <th>estado_inegi</th>\n",
       "      <th>estado</th>\n",
       "      <th>edad</th>\n",
       "    </tr>\n",
       "  </thead>\n",
       "  <tbody>\n",
       "    <tr>\n",
       "      <th>15</th>\n",
       "      <td>16</td>\n",
       "      <td>2005</td>\n",
       "      <td>153</td>\n",
       "      <td>1</td>\n",
       "      <td>Tocón</td>\n",
       "      <td>2270.0</td>\n",
       "      <td>Cupressaceae</td>\n",
       "      <td>Juniperus</td>\n",
       "      <td>NaN</td>\n",
       "      <td>NaN</td>\n",
       "      <td>...</td>\n",
       "      <td>1.0</td>\n",
       "      <td>2019-11-14 20:24:49.070</td>\n",
       "      <td>2019-11-14 20:24:49.070</td>\n",
       "      <td>NaN</td>\n",
       "      <td>11</td>\n",
       "      <td>11.1.3</td>\n",
       "      <td>11.1.3.1</td>\n",
       "      <td>2</td>\n",
       "      <td>Baja California</td>\n",
       "      <td>NaN</td>\n",
       "    </tr>\n",
       "    <tr>\n",
       "      <th>47</th>\n",
       "      <td>48</td>\n",
       "      <td>2004</td>\n",
       "      <td>154</td>\n",
       "      <td>2</td>\n",
       "      <td>Tocón</td>\n",
       "      <td>21121.0</td>\n",
       "      <td>Pinaceae</td>\n",
       "      <td>Pinus</td>\n",
       "      <td>monophylla</td>\n",
       "      <td>NaN</td>\n",
       "      <td>...</td>\n",
       "      <td>1.0</td>\n",
       "      <td>2019-11-14 20:24:49.070</td>\n",
       "      <td>2019-11-14 20:24:49.070</td>\n",
       "      <td>NaN</td>\n",
       "      <td>11</td>\n",
       "      <td>11.1.3</td>\n",
       "      <td>11.1.3.1</td>\n",
       "      <td>2</td>\n",
       "      <td>Baja California</td>\n",
       "      <td>NaN</td>\n",
       "    </tr>\n",
       "    <tr>\n",
       "      <th>70</th>\n",
       "      <td>71</td>\n",
       "      <td>2005</td>\n",
       "      <td>155</td>\n",
       "      <td>3</td>\n",
       "      <td>Tocón</td>\n",
       "      <td>4135.0</td>\n",
       "      <td>Agavaceae</td>\n",
       "      <td>Yucca</td>\n",
       "      <td>NaN</td>\n",
       "      <td>NaN</td>\n",
       "      <td>...</td>\n",
       "      <td>1.0</td>\n",
       "      <td>2019-11-14 20:24:49.070</td>\n",
       "      <td>2019-11-14 20:24:49.070</td>\n",
       "      <td>NaN</td>\n",
       "      <td>11</td>\n",
       "      <td>11.1.3</td>\n",
       "      <td>11.1.3.1</td>\n",
       "      <td>2</td>\n",
       "      <td>Baja California</td>\n",
       "      <td>NaN</td>\n",
       "    </tr>\n",
       "    <tr>\n",
       "      <th>71</th>\n",
       "      <td>72</td>\n",
       "      <td>2005</td>\n",
       "      <td>155</td>\n",
       "      <td>3</td>\n",
       "      <td>Tocón</td>\n",
       "      <td>4135.0</td>\n",
       "      <td>Agavaceae</td>\n",
       "      <td>Yucca</td>\n",
       "      <td>NaN</td>\n",
       "      <td>NaN</td>\n",
       "      <td>...</td>\n",
       "      <td>1.0</td>\n",
       "      <td>2019-11-14 20:24:49.070</td>\n",
       "      <td>2019-11-14 20:24:49.070</td>\n",
       "      <td>NaN</td>\n",
       "      <td>11</td>\n",
       "      <td>11.1.3</td>\n",
       "      <td>11.1.3.1</td>\n",
       "      <td>2</td>\n",
       "      <td>Baja California</td>\n",
       "      <td>NaN</td>\n",
       "    </tr>\n",
       "    <tr>\n",
       "      <th>74</th>\n",
       "      <td>75</td>\n",
       "      <td>2005</td>\n",
       "      <td>155</td>\n",
       "      <td>3</td>\n",
       "      <td>Tocón</td>\n",
       "      <td>4135.0</td>\n",
       "      <td>Agavaceae</td>\n",
       "      <td>Yucca</td>\n",
       "      <td>NaN</td>\n",
       "      <td>NaN</td>\n",
       "      <td>...</td>\n",
       "      <td>1.0</td>\n",
       "      <td>2019-11-14 20:24:49.070</td>\n",
       "      <td>2019-11-14 20:24:49.070</td>\n",
       "      <td>NaN</td>\n",
       "      <td>11</td>\n",
       "      <td>11.1.3</td>\n",
       "      <td>11.1.3.1</td>\n",
       "      <td>2</td>\n",
       "      <td>Baja California</td>\n",
       "      <td>NaN</td>\n",
       "    </tr>\n",
       "  </tbody>\n",
       "</table>\n",
       "<p>5 rows × 33 columns</p>\n",
       "</div>"
      ],
      "text/plain": [
       "    id  anio_levantamiento  conglomerado  sitio condicion  especie_id  \\\n",
       "15  16                2005           153      1     Tocón      2270.0   \n",
       "47  48                2004           154      2     Tocón     21121.0   \n",
       "70  71                2005           155      3     Tocón      4135.0   \n",
       "71  72                2005           155      3     Tocón      4135.0   \n",
       "74  75                2005           155      3     Tocón      4135.0   \n",
       "\n",
       "         familia     genero     epiteto categoria_infra  ... user_id  \\\n",
       "15  Cupressaceae  Juniperus         NaN             NaN  ...     1.0   \n",
       "47      Pinaceae      Pinus  monophylla             NaN  ...     1.0   \n",
       "70     Agavaceae      Yucca         NaN             NaN  ...     1.0   \n",
       "71     Agavaceae      Yucca         NaN             NaN  ...     1.0   \n",
       "74     Agavaceae      Yucca         NaN             NaN  ...     1.0   \n",
       "\n",
       "                 created_at               updated_at  grado_putrefaccion  \\\n",
       "15  2019-11-14 20:24:49.070  2019-11-14 20:24:49.070                 NaN   \n",
       "47  2019-11-14 20:24:49.070  2019-11-14 20:24:49.070                 NaN   \n",
       "70  2019-11-14 20:24:49.070  2019-11-14 20:24:49.070                 NaN   \n",
       "71  2019-11-14 20:24:49.070  2019-11-14 20:24:49.070                 NaN   \n",
       "74  2019-11-14 20:24:49.070  2019-11-14 20:24:49.070                 NaN   \n",
       "\n",
       "    clave_ecoregion_n1  clave_ecoregion_n3  clave_ecoregion_n4  estado_inegi  \\\n",
       "15                  11              11.1.3            11.1.3.1             2   \n",
       "47                  11              11.1.3            11.1.3.1             2   \n",
       "70                  11              11.1.3            11.1.3.1             2   \n",
       "71                  11              11.1.3            11.1.3.1             2   \n",
       "74                  11              11.1.3            11.1.3.1             2   \n",
       "\n",
       "             estado  edad  \n",
       "15  Baja California   NaN  \n",
       "47  Baja California   NaN  \n",
       "70  Baja California   NaN  \n",
       "71  Baja California   NaN  \n",
       "74  Baja California   NaN  \n",
       "\n",
       "[5 rows x 33 columns]"
      ]
     },
     "execution_count": 40,
     "metadata": {},
     "output_type": "execute_result"
    }
   ],
   "source": [
    "a"
   ]
  },
  {
   "cell_type": "code",
   "execution_count": null,
   "id": "25323375-bfad-4d4f-a4c8-bc9052798ea9",
   "metadata": {},
   "outputs": [],
   "source": []
  },
  {
   "cell_type": "code",
   "execution_count": 31,
   "id": "121b78a2-6f89-464a-abcd-6fa7300acd26",
   "metadata": {},
   "outputs": [],
   "source": [
    "df_original_muerto = df_original[df_original.condicion == \"Muertos\"]\n",
    "df_original_tocon = df_original[df_original.condicion == \"Tocón\"]"
   ]
  },
  {
   "cell_type": "code",
   "execution_count": 44,
   "id": "5f39f8d8-75c0-4e1e-997c-16e414e9a660",
   "metadata": {},
   "outputs": [
    {
     "name": "stderr",
     "output_type": "stream",
     "text": [
      "5it [00:00, 87746.95it/s]                                                       "
     ]
    },
    {
     "name": "stdout",
     "output_type": "stream",
     "text": [
      "15\n",
      "47\n",
      "70\n",
      "71\n",
      "74\n"
     ]
    },
    {
     "name": "stderr",
     "output_type": "stream",
     "text": [
      "\n"
     ]
    }
   ],
   "source": [
    "for row in tqdm(a.itertuples(), total=len(df_aux)):\n",
    "    print(row.Index)"
   ]
  },
  {
   "cell_type": "code",
   "execution_count": null,
   "id": "5e41c176-14e3-4f9a-81c9-a09e85f4b1ad",
   "metadata": {},
   "outputs": [],
   "source": [
    "v_eq = volumen(df_original_muerto, df_original_tocon, modelos)\n",
    "\n",
    "\n",
    "np.save('b_eq.npy', b_eq)\n",
    "np.save('c_eq.npy', c_eq)\n",
    "np.save('p_eq.npy', p_eq)\n",
    "np.save('v_eq.npy', v_eq)\n",
    "\n",
    "zeros = np.empty(n, dtype=object) \n",
    "df_original[\"volumen_eq\"] = b_eq\n",
    "df_original[\"biomasa_eq\"] = c_eq\n",
    "df_original[\"densidad_eq\"] = p_eq\n",
    "df_original[\"volumen_eq\"] = v_eq\n",
    "\n",
    "df_original.to_csv(args.output_file,index=False)\n",
    "\n",
    "print(f\"The dataframe was saved in {args.output_file}\")"
   ]
  }
 ],
 "metadata": {
  "kernelspec": {
   "display_name": "cnf",
   "language": "python",
   "name": "myenv"
  },
  "language_info": {
   "codemirror_mode": {
    "name": "ipython",
    "version": 3
   },
   "file_extension": ".py",
   "mimetype": "text/x-python",
   "name": "python",
   "nbconvert_exporter": "python",
   "pygments_lexer": "ipython3",
   "version": "3.12.3"
  }
 },
 "nbformat": 4,
 "nbformat_minor": 5
}
